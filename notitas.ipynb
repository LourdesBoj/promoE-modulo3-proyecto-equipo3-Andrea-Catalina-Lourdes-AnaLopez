{
 "cells": [
  {
   "cell_type": "markdown",
   "metadata": {},
   "source": [
    "PREDICCIÓN/OBJETIVO: \n",
    "\n",
    "analizar cuáles son los aspectos que más influyen en la cantidad de bicis que van a alquilar en un día.\n",
    "\n"
   ]
  },
  {
   "cell_type": "markdown",
   "metadata": {},
   "source": [
    "\t- instant: record index\n",
    "\t- dteday : date\n",
    "\t- season : season (spring, summer, autumn, winter)\n",
    "\t- yr : year (0: 2018, 1:2019)\n",
    "\t- mnth : month ( 1 to 12)\n",
    "\t- holiday : weather day is a holiday or not (extracted from http://dchr.dc.gov/page/holiday-schedule)\n",
    "\t- weekday : day of the week\n",
    "\t- workingday : if day is neither weekend nor holiday is 1, otherwise is 0.\n",
    "\t+ weathersit : \n",
    "\t\t- 1: Clear, Few clouds, Partly cloudy, Partly cloudy\n",
    "\t\t- 2: Mist + Cloudy, Mist + Broken clouds, Mist + Few clouds, Mist\n",
    "\t\t- 3: Light Snow, Light Rain + Thunderstorm + Scattered clouds, Light Rain + Scattered clouds\n",
    "\t\t- 4: Heavy Rain + Ice Pallets + Thunderstorm + Mist, Snow + Fog\n",
    "\t- temp : temperature in Celsius\n",
    "\t- atemp: feeling temperature in Celsius\n",
    "\t- hum: humidity\n",
    "\t- windspeed: wind speed\n",
    "\t- casual: count of casual users\n",
    "\t- registered: count of registered users\n",
    "\t- cnt: count of total rental bikes including both casual and registered"
   ]
  },
  {
   "cell_type": "markdown",
   "metadata": {},
   "source": [
    "NOTAS:\n",
    "\n",
    "dteday   object???\n",
    "\n",
    "weekday   INT????   -----> 0 es lunes o domingo???: chequear\n",
    "\n",
    "month     INT???\n",
    "\n",
    "season : NO COINCIDEN\n",
    "\n",
    "Falsas numéricas: yr, workingday, weathersit\n",
    "\n",
    "HUMEDAD ¿Puede haber un 0.?"
   ]
  },
  {
   "cell_type": "markdown",
   "metadata": {},
   "source": [
    "- H0 + H1\n",
    "- ASUNCIONES"
   ]
  },
  {
   "cell_type": "code",
   "execution_count": null,
   "metadata": {
    "vscode": {
     "languageId": "plaintext"
    }
   },
   "outputs": [],
   "source": [
    "# invierno: de 21/12/2018  hasta 19/03/2019\n",
    "# invierno: de 22/12/2018  hasta 19/03/2019\n",
    "# primavera_18: 20/03/2018 hasta 20/06/2018\n",
    "# primavera_19: 20/03/2019 hasta 20/06/2019\n",
    "# verano_18: 21/06/2018 hasta 22/09/2018\n",
    "# verano_19: 21/06/2019 hasta 22/09/2019\n",
    "# otoño_18: 23/09/2018 hasta 20/12/2018\n",
    "# otoño_19: 23/09/2019 hasta 20/12/2019\n",
    "\n",
    "#instituto de mecánica celeste de Francia\n",
    "# (https://www.tutiempo.net/meteorologia/equinoccios-solsticios.html)\n",
    "# seasons = {\"invierno\": fecha_invierno, \"primavera\": fecha_primavera, \"verano\": fecha_verano, \"otoño\": fecha_otoño}\n",
    "\n",
    "\n",
    "#En caso de que tengamos tiempo o sea necesario modificamos la función para que los cambios de estación sean más precisos dependiendo del año"
   ]
  },
  {
   "cell_type": "markdown",
   "metadata": {},
   "source": [
    "Primera hipotesis\n",
    "\n",
    "-Tal variable predictora influye sobre la variable respuesta"
   ]
  }
 ],
 "metadata": {
  "language_info": {
   "name": "python"
  },
  "orig_nbformat": 4
 },
 "nbformat": 4,
 "nbformat_minor": 2
}
