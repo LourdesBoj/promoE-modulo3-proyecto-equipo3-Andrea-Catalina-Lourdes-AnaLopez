{
 "cells": [
  {
   "cell_type": "code",
   "execution_count": 38,
   "metadata": {},
   "outputs": [],
   "source": [
    "import pandas as pd\n",
    "import numpy as np\n",
    "\n",
    "import sidetable as stb\n",
    "\n",
    "import matplotlib.pyplot as plt\n",
    "import seaborn as sns\n",
    "\n",
    "from scipy.stats import skew\n",
    "from scipy.stats import kurtosistest\n",
    "from scipy import stats\n",
    "\n",
    "plt.rcParams['figure.figsize'] = (15, 10)\n",
    "pd.options.display.max_columns = None\n",
    "\n",
    "import warnings\n",
    "warnings.filterwarnings('ignore')\n",
    "\n",
    "from datetime import datetime"
   ]
  },
  {
   "cell_type": "code",
   "execution_count": 3,
   "metadata": {},
   "outputs": [],
   "source": [
    "df = pd.read_csv(\"data/bikes.csv\", index_col= 0)\n",
    "df.drop([\"instant\"], axis= 1, inplace= True)"
   ]
  },
  {
   "cell_type": "markdown",
   "metadata": {},
   "source": [
    "OBJETIVO: analizar cuáles son los aspectos que más influyen en la cantidad de bicis que van a alquilar en un día.\n",
    "\n",
    "VR: total_alquileres"
   ]
  },
  {
   "cell_type": "code",
   "execution_count": 4,
   "metadata": {},
   "outputs": [
    {
     "data": {
      "text/plain": [
       "(730, 15)"
      ]
     },
     "execution_count": 4,
     "metadata": {},
     "output_type": "execute_result"
    }
   ],
   "source": [
    "df.shape"
   ]
  },
  {
   "cell_type": "code",
   "execution_count": 5,
   "metadata": {},
   "outputs": [
    {
     "data": {
      "text/html": [
       "<div>\n",
       "<style scoped>\n",
       "    .dataframe tbody tr th:only-of-type {\n",
       "        vertical-align: middle;\n",
       "    }\n",
       "\n",
       "    .dataframe tbody tr th {\n",
       "        vertical-align: top;\n",
       "    }\n",
       "\n",
       "    .dataframe thead th {\n",
       "        text-align: right;\n",
       "    }\n",
       "</style>\n",
       "<table border=\"1\" class=\"dataframe\">\n",
       "  <thead>\n",
       "    <tr style=\"text-align: right;\">\n",
       "      <th></th>\n",
       "      <th>missing</th>\n",
       "      <th>total</th>\n",
       "      <th>percent</th>\n",
       "    </tr>\n",
       "  </thead>\n",
       "  <tbody>\n",
       "    <tr>\n",
       "      <th>dteday</th>\n",
       "      <td>0</td>\n",
       "      <td>730</td>\n",
       "      <td>0.0</td>\n",
       "    </tr>\n",
       "    <tr>\n",
       "      <th>season</th>\n",
       "      <td>0</td>\n",
       "      <td>730</td>\n",
       "      <td>0.0</td>\n",
       "    </tr>\n",
       "    <tr>\n",
       "      <th>yr</th>\n",
       "      <td>0</td>\n",
       "      <td>730</td>\n",
       "      <td>0.0</td>\n",
       "    </tr>\n",
       "    <tr>\n",
       "      <th>mnth</th>\n",
       "      <td>0</td>\n",
       "      <td>730</td>\n",
       "      <td>0.0</td>\n",
       "    </tr>\n",
       "    <tr>\n",
       "      <th>holiday</th>\n",
       "      <td>0</td>\n",
       "      <td>730</td>\n",
       "      <td>0.0</td>\n",
       "    </tr>\n",
       "    <tr>\n",
       "      <th>weekday</th>\n",
       "      <td>0</td>\n",
       "      <td>730</td>\n",
       "      <td>0.0</td>\n",
       "    </tr>\n",
       "    <tr>\n",
       "      <th>workingday</th>\n",
       "      <td>0</td>\n",
       "      <td>730</td>\n",
       "      <td>0.0</td>\n",
       "    </tr>\n",
       "    <tr>\n",
       "      <th>weathersit</th>\n",
       "      <td>0</td>\n",
       "      <td>730</td>\n",
       "      <td>0.0</td>\n",
       "    </tr>\n",
       "    <tr>\n",
       "      <th>temp</th>\n",
       "      <td>0</td>\n",
       "      <td>730</td>\n",
       "      <td>0.0</td>\n",
       "    </tr>\n",
       "    <tr>\n",
       "      <th>atemp</th>\n",
       "      <td>0</td>\n",
       "      <td>730</td>\n",
       "      <td>0.0</td>\n",
       "    </tr>\n",
       "    <tr>\n",
       "      <th>hum</th>\n",
       "      <td>0</td>\n",
       "      <td>730</td>\n",
       "      <td>0.0</td>\n",
       "    </tr>\n",
       "    <tr>\n",
       "      <th>windspeed</th>\n",
       "      <td>0</td>\n",
       "      <td>730</td>\n",
       "      <td>0.0</td>\n",
       "    </tr>\n",
       "    <tr>\n",
       "      <th>casual</th>\n",
       "      <td>0</td>\n",
       "      <td>730</td>\n",
       "      <td>0.0</td>\n",
       "    </tr>\n",
       "    <tr>\n",
       "      <th>registered</th>\n",
       "      <td>0</td>\n",
       "      <td>730</td>\n",
       "      <td>0.0</td>\n",
       "    </tr>\n",
       "    <tr>\n",
       "      <th>cnt</th>\n",
       "      <td>0</td>\n",
       "      <td>730</td>\n",
       "      <td>0.0</td>\n",
       "    </tr>\n",
       "  </tbody>\n",
       "</table>\n",
       "</div>"
      ],
      "text/plain": [
       "            missing  total  percent\n",
       "dteday            0    730      0.0\n",
       "season            0    730      0.0\n",
       "yr                0    730      0.0\n",
       "mnth              0    730      0.0\n",
       "holiday           0    730      0.0\n",
       "weekday           0    730      0.0\n",
       "workingday        0    730      0.0\n",
       "weathersit        0    730      0.0\n",
       "temp              0    730      0.0\n",
       "atemp             0    730      0.0\n",
       "hum               0    730      0.0\n",
       "windspeed         0    730      0.0\n",
       "casual            0    730      0.0\n",
       "registered        0    730      0.0\n",
       "cnt               0    730      0.0"
      ]
     },
     "execution_count": 5,
     "metadata": {},
     "output_type": "execute_result"
    }
   ],
   "source": [
    "df.stb.missing()"
   ]
  },
  {
   "cell_type": "code",
   "execution_count": 6,
   "metadata": {},
   "outputs": [
    {
     "data": {
      "text/plain": [
       "dteday         object\n",
       "season         object\n",
       "yr              int64\n",
       "mnth            int64\n",
       "holiday         int64\n",
       "weekday         int64\n",
       "workingday      int64\n",
       "weathersit      int64\n",
       "temp          float64\n",
       "atemp         float64\n",
       "hum           float64\n",
       "windspeed     float64\n",
       "casual          int64\n",
       "registered      int64\n",
       "cnt             int64\n",
       "dtype: object"
      ]
     },
     "execution_count": 6,
     "metadata": {},
     "output_type": "execute_result"
    }
   ],
   "source": [
    "df.dtypes"
   ]
  },
  {
   "cell_type": "code",
   "execution_count": 7,
   "metadata": {},
   "outputs": [
    {
     "data": {
      "text/html": [
       "<div>\n",
       "<style scoped>\n",
       "    .dataframe tbody tr th:only-of-type {\n",
       "        vertical-align: middle;\n",
       "    }\n",
       "\n",
       "    .dataframe tbody tr th {\n",
       "        vertical-align: top;\n",
       "    }\n",
       "\n",
       "    .dataframe thead th {\n",
       "        text-align: right;\n",
       "    }\n",
       "</style>\n",
       "<table border=\"1\" class=\"dataframe\">\n",
       "  <thead>\n",
       "    <tr style=\"text-align: right;\">\n",
       "      <th></th>\n",
       "      <th>dteday</th>\n",
       "      <th>season</th>\n",
       "      <th>yr</th>\n",
       "      <th>mnth</th>\n",
       "      <th>holiday</th>\n",
       "      <th>weekday</th>\n",
       "      <th>workingday</th>\n",
       "      <th>weathersit</th>\n",
       "      <th>temp</th>\n",
       "      <th>atemp</th>\n",
       "      <th>hum</th>\n",
       "      <th>windspeed</th>\n",
       "      <th>casual</th>\n",
       "      <th>registered</th>\n",
       "      <th>cnt</th>\n",
       "    </tr>\n",
       "  </thead>\n",
       "  <tbody>\n",
       "    <tr>\n",
       "      <th>1</th>\n",
       "      <td>02-01-2018</td>\n",
       "      <td>spring</td>\n",
       "      <td>0</td>\n",
       "      <td>1</td>\n",
       "      <td>0</td>\n",
       "      <td>0</td>\n",
       "      <td>0</td>\n",
       "      <td>2</td>\n",
       "      <td>14.902598</td>\n",
       "      <td>17.68695</td>\n",
       "      <td>69.6087</td>\n",
       "      <td>16.652113</td>\n",
       "      <td>131</td>\n",
       "      <td>670</td>\n",
       "      <td>801</td>\n",
       "    </tr>\n",
       "  </tbody>\n",
       "</table>\n",
       "</div>"
      ],
      "text/plain": [
       "       dteday  season  yr  mnth  holiday  weekday  workingday  weathersit  \\\n",
       "1  02-01-2018  spring   0     1        0        0           0           2   \n",
       "\n",
       "        temp     atemp      hum  windspeed  casual  registered  cnt  \n",
       "1  14.902598  17.68695  69.6087  16.652113     131         670  801  "
      ]
     },
     "execution_count": 7,
     "metadata": {},
     "output_type": "execute_result"
    }
   ],
   "source": [
    "df[df[\"season\"] == \"summer\"]\n",
    "df.sample()"
   ]
  },
  {
   "cell_type": "markdown",
   "metadata": {},
   "source": [
    "# CAMBIO NOMBRE COLUMNAS:"
   ]
  },
  {
   "cell_type": "code",
   "execution_count": 8,
   "metadata": {},
   "outputs": [],
   "source": [
    "diccionario = {\n",
    "    \"dteday\": \"fecha\",\n",
    "    \"season\": \"estacion\",\n",
    "    \"yr\": \"año\",\n",
    "    \"mnth\": \"mes\", \n",
    "    \"holiday\": \"festivo\", \n",
    "    \"weekday\": \"dia_sem\",\n",
    "    \"workingday\": \"laborable\", \n",
    "    \"weathersit\": \"prevision_tiempo\",\n",
    "    \"temp\": \"temperatura\",\n",
    "    \"atemp\": \"sensacion_termica\", \n",
    "    \"hum\": \"humedad\", \n",
    "    \"windspeed\": \"velocidad_viento\", \n",
    "    \"casual\": \"clientes_casual\", \n",
    "    \"registered\": \"clientes_registrados\", \n",
    "    \"cnt\":\"total_bicis\"}"
   ]
  },
  {
   "cell_type": "code",
   "execution_count": 9,
   "metadata": {},
   "outputs": [
    {
     "data": {
      "text/html": [
       "<div>\n",
       "<style scoped>\n",
       "    .dataframe tbody tr th:only-of-type {\n",
       "        vertical-align: middle;\n",
       "    }\n",
       "\n",
       "    .dataframe tbody tr th {\n",
       "        vertical-align: top;\n",
       "    }\n",
       "\n",
       "    .dataframe thead th {\n",
       "        text-align: right;\n",
       "    }\n",
       "</style>\n",
       "<table border=\"1\" class=\"dataframe\">\n",
       "  <thead>\n",
       "    <tr style=\"text-align: right;\">\n",
       "      <th></th>\n",
       "      <th>fecha</th>\n",
       "      <th>estacion</th>\n",
       "      <th>año</th>\n",
       "      <th>mes</th>\n",
       "      <th>festivo</th>\n",
       "      <th>dia_sem</th>\n",
       "      <th>laborable</th>\n",
       "      <th>prevision_tiempo</th>\n",
       "      <th>temperatura</th>\n",
       "      <th>sensacion_termica</th>\n",
       "      <th>humedad</th>\n",
       "      <th>velocidad_viento</th>\n",
       "      <th>clientes_casual</th>\n",
       "      <th>clientes_registrados</th>\n",
       "      <th>total_bicis</th>\n",
       "    </tr>\n",
       "  </thead>\n",
       "  <tbody>\n",
       "    <tr>\n",
       "      <th>0</th>\n",
       "      <td>01-01-2018</td>\n",
       "      <td>spring</td>\n",
       "      <td>0</td>\n",
       "      <td>1</td>\n",
       "      <td>0</td>\n",
       "      <td>6</td>\n",
       "      <td>0</td>\n",
       "      <td>2</td>\n",
       "      <td>14.110847</td>\n",
       "      <td>18.18125</td>\n",
       "      <td>80.5833</td>\n",
       "      <td>10.749882</td>\n",
       "      <td>331</td>\n",
       "      <td>654</td>\n",
       "      <td>985</td>\n",
       "    </tr>\n",
       "    <tr>\n",
       "      <th>1</th>\n",
       "      <td>02-01-2018</td>\n",
       "      <td>spring</td>\n",
       "      <td>0</td>\n",
       "      <td>1</td>\n",
       "      <td>0</td>\n",
       "      <td>0</td>\n",
       "      <td>0</td>\n",
       "      <td>2</td>\n",
       "      <td>14.902598</td>\n",
       "      <td>17.68695</td>\n",
       "      <td>69.6087</td>\n",
       "      <td>16.652113</td>\n",
       "      <td>131</td>\n",
       "      <td>670</td>\n",
       "      <td>801</td>\n",
       "    </tr>\n",
       "    <tr>\n",
       "      <th>2</th>\n",
       "      <td>03-01-2018</td>\n",
       "      <td>spring</td>\n",
       "      <td>0</td>\n",
       "      <td>1</td>\n",
       "      <td>0</td>\n",
       "      <td>1</td>\n",
       "      <td>1</td>\n",
       "      <td>1</td>\n",
       "      <td>8.050924</td>\n",
       "      <td>9.47025</td>\n",
       "      <td>43.7273</td>\n",
       "      <td>16.636703</td>\n",
       "      <td>120</td>\n",
       "      <td>1229</td>\n",
       "      <td>1349</td>\n",
       "    </tr>\n",
       "    <tr>\n",
       "      <th>3</th>\n",
       "      <td>04-01-2018</td>\n",
       "      <td>spring</td>\n",
       "      <td>0</td>\n",
       "      <td>1</td>\n",
       "      <td>0</td>\n",
       "      <td>2</td>\n",
       "      <td>1</td>\n",
       "      <td>1</td>\n",
       "      <td>8.200000</td>\n",
       "      <td>10.60610</td>\n",
       "      <td>59.0435</td>\n",
       "      <td>10.739832</td>\n",
       "      <td>108</td>\n",
       "      <td>1454</td>\n",
       "      <td>1562</td>\n",
       "    </tr>\n",
       "    <tr>\n",
       "      <th>4</th>\n",
       "      <td>05-01-2018</td>\n",
       "      <td>spring</td>\n",
       "      <td>0</td>\n",
       "      <td>1</td>\n",
       "      <td>0</td>\n",
       "      <td>3</td>\n",
       "      <td>1</td>\n",
       "      <td>1</td>\n",
       "      <td>9.305237</td>\n",
       "      <td>11.46350</td>\n",
       "      <td>43.6957</td>\n",
       "      <td>12.522300</td>\n",
       "      <td>82</td>\n",
       "      <td>1518</td>\n",
       "      <td>1600</td>\n",
       "    </tr>\n",
       "  </tbody>\n",
       "</table>\n",
       "</div>"
      ],
      "text/plain": [
       "        fecha estacion  año  mes  festivo  dia_sem  laborable  \\\n",
       "0  01-01-2018   spring    0    1        0        6          0   \n",
       "1  02-01-2018   spring    0    1        0        0          0   \n",
       "2  03-01-2018   spring    0    1        0        1          1   \n",
       "3  04-01-2018   spring    0    1        0        2          1   \n",
       "4  05-01-2018   spring    0    1        0        3          1   \n",
       "\n",
       "   prevision_tiempo  temperatura  sensacion_termica  humedad  \\\n",
       "0                 2    14.110847           18.18125  80.5833   \n",
       "1                 2    14.902598           17.68695  69.6087   \n",
       "2                 1     8.050924            9.47025  43.7273   \n",
       "3                 1     8.200000           10.60610  59.0435   \n",
       "4                 1     9.305237           11.46350  43.6957   \n",
       "\n",
       "   velocidad_viento  clientes_casual  clientes_registrados  total_bicis  \n",
       "0         10.749882              331                   654          985  \n",
       "1         16.652113              131                   670          801  \n",
       "2         16.636703              120                  1229         1349  \n",
       "3         10.739832              108                  1454         1562  \n",
       "4         12.522300               82                  1518         1600  "
      ]
     },
     "execution_count": 9,
     "metadata": {},
     "output_type": "execute_result"
    }
   ],
   "source": [
    "df.rename(columns = diccionario, inplace =True)\n",
    "df.head()"
   ]
  },
  {
   "cell_type": "markdown",
   "metadata": {},
   "source": [
    "# CAMBIO DATOS ESTACIÓN:"
   ]
  },
  {
   "cell_type": "code",
   "execution_count": 10,
   "metadata": {},
   "outputs": [],
   "source": [
    "#Convertimos la columna fecha a formato datetime\n",
    "\n",
    "df[\"fecha\"] = df[\"fecha\"].astype(\"datetime64\", errors =\"ignore\")\n"
   ]
  },
  {
   "cell_type": "code",
   "execution_count": 11,
   "metadata": {},
   "outputs": [],
   "source": [
    "#indicamos que el formato datetime sea el mismo que ya tiene la columna\n",
    "\n",
    "df['fecha']= pd.to_datetime(df['fecha'], format = \"%d-%m-%Y\")"
   ]
  },
  {
   "cell_type": "code",
   "execution_count": 12,
   "metadata": {},
   "outputs": [],
   "source": [
    "#Creamos la función para cambiar las estaciones del año\n",
    "\n",
    "def cambio_estacion(fecha):\n",
    "    inicio_primavera = datetime(fecha.year, 3, 20)\n",
    "    fin_primavera = datetime(fecha.year, 6, 20)\n",
    "    inicio_verano = datetime(fecha.year, 6, 21)\n",
    "    fin_verano = datetime(fecha.year, 9, 22)\n",
    "    inicio_otoño = datetime(fecha.year, 9, 23)\n",
    "    fin_otoño = datetime(fecha.year, 12, 20)\n",
    "    # Comprueba en qué estación del año cae la fecha dada\n",
    "    if inicio_primavera <= fecha <= fin_primavera:\n",
    "        return \"Primavera\"\n",
    "    elif inicio_verano <= fecha <= fin_verano:\n",
    "        return \"Verano\"\n",
    "    elif inicio_otoño <= fecha <= fin_otoño:\n",
    "        return \"Otoño\"\n",
    "    else:\n",
    "        return \"Invierno\""
   ]
  },
  {
   "cell_type": "code",
   "execution_count": 13,
   "metadata": {},
   "outputs": [],
   "source": [
    "df['estacion'] = df['fecha'].apply(cambio_estacion)"
   ]
  },
  {
   "cell_type": "code",
   "execution_count": 14,
   "metadata": {},
   "outputs": [
    {
     "data": {
      "text/plain": [
       "array(['Invierno', 'Primavera', 'Verano', 'Otoño'], dtype=object)"
      ]
     },
     "execution_count": 14,
     "metadata": {},
     "output_type": "execute_result"
    }
   ],
   "source": [
    "df['estacion'].unique()"
   ]
  },
  {
   "cell_type": "code",
   "execution_count": 15,
   "metadata": {},
   "outputs": [
    {
     "data": {
      "text/html": [
       "<div>\n",
       "<style scoped>\n",
       "    .dataframe tbody tr th:only-of-type {\n",
       "        vertical-align: middle;\n",
       "    }\n",
       "\n",
       "    .dataframe tbody tr th {\n",
       "        vertical-align: top;\n",
       "    }\n",
       "\n",
       "    .dataframe thead th {\n",
       "        text-align: right;\n",
       "    }\n",
       "</style>\n",
       "<table border=\"1\" class=\"dataframe\">\n",
       "  <thead>\n",
       "    <tr style=\"text-align: right;\">\n",
       "      <th></th>\n",
       "      <th>fecha</th>\n",
       "      <th>estacion</th>\n",
       "      <th>año</th>\n",
       "      <th>mes</th>\n",
       "      <th>festivo</th>\n",
       "      <th>dia_sem</th>\n",
       "      <th>laborable</th>\n",
       "      <th>prevision_tiempo</th>\n",
       "      <th>temperatura</th>\n",
       "      <th>sensacion_termica</th>\n",
       "      <th>humedad</th>\n",
       "      <th>velocidad_viento</th>\n",
       "      <th>clientes_casual</th>\n",
       "      <th>clientes_registrados</th>\n",
       "      <th>total_bicis</th>\n",
       "    </tr>\n",
       "  </thead>\n",
       "  <tbody>\n",
       "    <tr>\n",
       "      <th>288</th>\n",
       "      <td>2018-10-16</td>\n",
       "      <td>Otoño</td>\n",
       "      <td>0</td>\n",
       "      <td>10</td>\n",
       "      <td>0</td>\n",
       "      <td>0</td>\n",
       "      <td>0</td>\n",
       "      <td>1</td>\n",
       "      <td>20.978347</td>\n",
       "      <td>25.15770</td>\n",
       "      <td>48.6667</td>\n",
       "      <td>18.875039</td>\n",
       "      <td>1748</td>\n",
       "      <td>3293</td>\n",
       "      <td>5041</td>\n",
       "    </tr>\n",
       "    <tr>\n",
       "      <th>455</th>\n",
       "      <td>2019-04-01</td>\n",
       "      <td>Primavera</td>\n",
       "      <td>1</td>\n",
       "      <td>4</td>\n",
       "      <td>0</td>\n",
       "      <td>0</td>\n",
       "      <td>0</td>\n",
       "      <td>2</td>\n",
       "      <td>17.459153</td>\n",
       "      <td>20.86435</td>\n",
       "      <td>67.6250</td>\n",
       "      <td>11.541889</td>\n",
       "      <td>2347</td>\n",
       "      <td>3694</td>\n",
       "      <td>6041</td>\n",
       "    </tr>\n",
       "    <tr>\n",
       "      <th>625</th>\n",
       "      <td>2019-09-18</td>\n",
       "      <td>Verano</td>\n",
       "      <td>1</td>\n",
       "      <td>9</td>\n",
       "      <td>0</td>\n",
       "      <td>2</td>\n",
       "      <td>1</td>\n",
       "      <td>2</td>\n",
       "      <td>25.556653</td>\n",
       "      <td>28.25335</td>\n",
       "      <td>87.2500</td>\n",
       "      <td>23.958329</td>\n",
       "      <td>371</td>\n",
       "      <td>3702</td>\n",
       "      <td>4073</td>\n",
       "    </tr>\n",
       "    <tr>\n",
       "      <th>348</th>\n",
       "      <td>2018-12-15</td>\n",
       "      <td>Otoño</td>\n",
       "      <td>0</td>\n",
       "      <td>12</td>\n",
       "      <td>0</td>\n",
       "      <td>4</td>\n",
       "      <td>1</td>\n",
       "      <td>2</td>\n",
       "      <td>17.322500</td>\n",
       "      <td>20.61185</td>\n",
       "      <td>63.4167</td>\n",
       "      <td>17.958814</td>\n",
       "      <td>181</td>\n",
       "      <td>3528</td>\n",
       "      <td>3709</td>\n",
       "    </tr>\n",
       "    <tr>\n",
       "      <th>273</th>\n",
       "      <td>2018-10-01</td>\n",
       "      <td>Otoño</td>\n",
       "      <td>0</td>\n",
       "      <td>10</td>\n",
       "      <td>0</td>\n",
       "      <td>6</td>\n",
       "      <td>0</td>\n",
       "      <td>2</td>\n",
       "      <td>16.810000</td>\n",
       "      <td>20.64315</td>\n",
       "      <td>75.3750</td>\n",
       "      <td>19.583832</td>\n",
       "      <td>480</td>\n",
       "      <td>1949</td>\n",
       "      <td>2429</td>\n",
       "    </tr>\n",
       "  </tbody>\n",
       "</table>\n",
       "</div>"
      ],
      "text/plain": [
       "         fecha   estacion  año  mes  festivo  dia_sem  laborable  \\\n",
       "288 2018-10-16      Otoño    0   10        0        0          0   \n",
       "455 2019-04-01  Primavera    1    4        0        0          0   \n",
       "625 2019-09-18     Verano    1    9        0        2          1   \n",
       "348 2018-12-15      Otoño    0   12        0        4          1   \n",
       "273 2018-10-01      Otoño    0   10        0        6          0   \n",
       "\n",
       "     prevision_tiempo  temperatura  sensacion_termica  humedad  \\\n",
       "288                 1    20.978347           25.15770  48.6667   \n",
       "455                 2    17.459153           20.86435  67.6250   \n",
       "625                 2    25.556653           28.25335  87.2500   \n",
       "348                 2    17.322500           20.61185  63.4167   \n",
       "273                 2    16.810000           20.64315  75.3750   \n",
       "\n",
       "     velocidad_viento  clientes_casual  clientes_registrados  total_bicis  \n",
       "288         18.875039             1748                  3293         5041  \n",
       "455         11.541889             2347                  3694         6041  \n",
       "625         23.958329              371                  3702         4073  \n",
       "348         17.958814              181                  3528         3709  \n",
       "273         19.583832              480                  1949         2429  "
      ]
     },
     "execution_count": 15,
     "metadata": {},
     "output_type": "execute_result"
    }
   ],
   "source": [
    "df.sample(5)"
   ]
  },
  {
   "cell_type": "code",
   "execution_count": 16,
   "metadata": {},
   "outputs": [],
   "source": [
    "#Comprobamos si total_bicis es la suma de clientes_casual y clientes_registrados\n",
    "\n",
    "df['suma_clientes'] = df['clientes_casual'] + df['clientes_registrados']"
   ]
  },
  {
   "cell_type": "code",
   "execution_count": 17,
   "metadata": {},
   "outputs": [
    {
     "data": {
      "text/html": [
       "<div>\n",
       "<style scoped>\n",
       "    .dataframe tbody tr th:only-of-type {\n",
       "        vertical-align: middle;\n",
       "    }\n",
       "\n",
       "    .dataframe tbody tr th {\n",
       "        vertical-align: top;\n",
       "    }\n",
       "\n",
       "    .dataframe thead th {\n",
       "        text-align: right;\n",
       "    }\n",
       "</style>\n",
       "<table border=\"1\" class=\"dataframe\">\n",
       "  <thead>\n",
       "    <tr style=\"text-align: right;\">\n",
       "      <th></th>\n",
       "      <th>fecha</th>\n",
       "      <th>estacion</th>\n",
       "      <th>año</th>\n",
       "      <th>mes</th>\n",
       "      <th>festivo</th>\n",
       "      <th>dia_sem</th>\n",
       "      <th>laborable</th>\n",
       "      <th>prevision_tiempo</th>\n",
       "      <th>temperatura</th>\n",
       "      <th>sensacion_termica</th>\n",
       "      <th>humedad</th>\n",
       "      <th>velocidad_viento</th>\n",
       "      <th>clientes_casual</th>\n",
       "      <th>clientes_registrados</th>\n",
       "      <th>total_bicis</th>\n",
       "      <th>suma_clientes</th>\n",
       "    </tr>\n",
       "  </thead>\n",
       "  <tbody>\n",
       "    <tr>\n",
       "      <th>187</th>\n",
       "      <td>2018-07-07</td>\n",
       "      <td>Verano</td>\n",
       "      <td>0</td>\n",
       "      <td>7</td>\n",
       "      <td>0</td>\n",
       "      <td>4</td>\n",
       "      <td>1</td>\n",
       "      <td>1</td>\n",
       "      <td>30.75</td>\n",
       "      <td>34.34355</td>\n",
       "      <td>65.125</td>\n",
       "      <td>10.666400</td>\n",
       "      <td>754</td>\n",
       "      <td>3838</td>\n",
       "      <td>4592</td>\n",
       "      <td>4592</td>\n",
       "    </tr>\n",
       "    <tr>\n",
       "      <th>318</th>\n",
       "      <td>2018-11-15</td>\n",
       "      <td>Otoño</td>\n",
       "      <td>0</td>\n",
       "      <td>11</td>\n",
       "      <td>0</td>\n",
       "      <td>2</td>\n",
       "      <td>1</td>\n",
       "      <td>2</td>\n",
       "      <td>21.73</td>\n",
       "      <td>25.37895</td>\n",
       "      <td>68.875</td>\n",
       "      <td>13.375411</td>\n",
       "      <td>449</td>\n",
       "      <td>3746</td>\n",
       "      <td>4195</td>\n",
       "      <td>4195</td>\n",
       "    </tr>\n",
       "  </tbody>\n",
       "</table>\n",
       "</div>"
      ],
      "text/plain": [
       "         fecha estacion  año  mes  festivo  dia_sem  laborable  \\\n",
       "187 2018-07-07   Verano    0    7        0        4          1   \n",
       "318 2018-11-15    Otoño    0   11        0        2          1   \n",
       "\n",
       "     prevision_tiempo  temperatura  sensacion_termica  humedad  \\\n",
       "187                 1        30.75           34.34355   65.125   \n",
       "318                 2        21.73           25.37895   68.875   \n",
       "\n",
       "     velocidad_viento  clientes_casual  clientes_registrados  total_bicis  \\\n",
       "187         10.666400              754                  3838         4592   \n",
       "318         13.375411              449                  3746         4195   \n",
       "\n",
       "     suma_clientes  \n",
       "187           4592  \n",
       "318           4195  "
      ]
     },
     "execution_count": 17,
     "metadata": {},
     "output_type": "execute_result"
    }
   ],
   "source": [
    "df.sample(2)"
   ]
  },
  {
   "cell_type": "markdown",
   "metadata": {},
   "source": [
    "CONCLUSION\n",
    "\n",
    "La columna total_bicis es la suma de las columnas clientes_casual + clientes_registrados, por tanto confirmamos en las columnas clientes_casual y clientes_registrados, si un cliente ha alquilado varias veces en un día, se contabiliza todas esas veces. "
   ]
  },
  {
   "cell_type": "code",
   "execution_count": 18,
   "metadata": {},
   "outputs": [],
   "source": [
    "#Eliminamos la columna de la suma, ya que no la vamos a necesitar más\n",
    "\n",
    "df.drop(['suma_clientes'], axis = 1, inplace = True)"
   ]
  },
  {
   "cell_type": "code",
   "execution_count": 19,
   "metadata": {},
   "outputs": [
    {
     "data": {
      "text/html": [
       "<div>\n",
       "<style scoped>\n",
       "    .dataframe tbody tr th:only-of-type {\n",
       "        vertical-align: middle;\n",
       "    }\n",
       "\n",
       "    .dataframe tbody tr th {\n",
       "        vertical-align: top;\n",
       "    }\n",
       "\n",
       "    .dataframe thead th {\n",
       "        text-align: right;\n",
       "    }\n",
       "</style>\n",
       "<table border=\"1\" class=\"dataframe\">\n",
       "  <thead>\n",
       "    <tr style=\"text-align: right;\">\n",
       "      <th></th>\n",
       "      <th>fecha</th>\n",
       "      <th>estacion</th>\n",
       "      <th>año</th>\n",
       "      <th>mes</th>\n",
       "      <th>festivo</th>\n",
       "      <th>dia_sem</th>\n",
       "      <th>laborable</th>\n",
       "      <th>prevision_tiempo</th>\n",
       "      <th>temperatura</th>\n",
       "      <th>sensacion_termica</th>\n",
       "      <th>humedad</th>\n",
       "      <th>velocidad_viento</th>\n",
       "      <th>alquiler_casual</th>\n",
       "      <th>alquiler_registrado</th>\n",
       "      <th>total_alquileres</th>\n",
       "    </tr>\n",
       "  </thead>\n",
       "  <tbody>\n",
       "    <tr>\n",
       "      <th>0</th>\n",
       "      <td>2018-01-01</td>\n",
       "      <td>Invierno</td>\n",
       "      <td>0</td>\n",
       "      <td>1</td>\n",
       "      <td>0</td>\n",
       "      <td>6</td>\n",
       "      <td>0</td>\n",
       "      <td>2</td>\n",
       "      <td>14.110847</td>\n",
       "      <td>18.18125</td>\n",
       "      <td>80.5833</td>\n",
       "      <td>10.749882</td>\n",
       "      <td>331</td>\n",
       "      <td>654</td>\n",
       "      <td>985</td>\n",
       "    </tr>\n",
       "    <tr>\n",
       "      <th>1</th>\n",
       "      <td>2018-01-02</td>\n",
       "      <td>Invierno</td>\n",
       "      <td>0</td>\n",
       "      <td>1</td>\n",
       "      <td>0</td>\n",
       "      <td>0</td>\n",
       "      <td>0</td>\n",
       "      <td>2</td>\n",
       "      <td>14.902598</td>\n",
       "      <td>17.68695</td>\n",
       "      <td>69.6087</td>\n",
       "      <td>16.652113</td>\n",
       "      <td>131</td>\n",
       "      <td>670</td>\n",
       "      <td>801</td>\n",
       "    </tr>\n",
       "  </tbody>\n",
       "</table>\n",
       "</div>"
      ],
      "text/plain": [
       "       fecha  estacion  año  mes  festivo  dia_sem  laborable  \\\n",
       "0 2018-01-01  Invierno    0    1        0        6          0   \n",
       "1 2018-01-02  Invierno    0    1        0        0          0   \n",
       "\n",
       "   prevision_tiempo  temperatura  sensacion_termica  humedad  \\\n",
       "0                 2    14.110847           18.18125  80.5833   \n",
       "1                 2    14.902598           17.68695  69.6087   \n",
       "\n",
       "   velocidad_viento  alquiler_casual  alquiler_registrado  total_alquileres  \n",
       "0         10.749882              331                  654               985  \n",
       "1         16.652113              131                  670               801  "
      ]
     },
     "execution_count": 19,
     "metadata": {},
     "output_type": "execute_result"
    }
   ],
   "source": [
    "#Cambiamos los nombres de las columnas para que se entienda mejor\n",
    "diccionario2 = {\n",
    "    \"clientes_casual\": \"alquiler_casual\",\n",
    "    \"clientes_registrados\": \"alquiler_registrado\",\n",
    "    \"total_bicis\": \"total_alquileres\"}\n",
    "\n",
    "df.rename(columns = diccionario2, inplace =True)\n",
    "df.head(2)"
   ]
  },
  {
   "cell_type": "code",
   "execution_count": 20,
   "metadata": {},
   "outputs": [
    {
     "data": {
      "text/plain": [
       "fecha                  datetime64[ns]\n",
       "estacion                       object\n",
       "año                             int64\n",
       "mes                             int64\n",
       "festivo                         int64\n",
       "dia_sem                         int64\n",
       "laborable                       int64\n",
       "prevision_tiempo                int64\n",
       "temperatura                   float64\n",
       "sensacion_termica             float64\n",
       "humedad                       float64\n",
       "velocidad_viento              float64\n",
       "alquiler_casual                 int64\n",
       "alquiler_registrado             int64\n",
       "total_alquileres                int64\n",
       "dtype: object"
      ]
     },
     "execution_count": 20,
     "metadata": {},
     "output_type": "execute_result"
    }
   ],
   "source": [
    "df.dtypes"
   ]
  },
  {
   "cell_type": "code",
   "execution_count": 37,
   "metadata": {},
   "outputs": [
    {
     "data": {
      "image/png": "[encoded data removed]",
      "text/plain": [
       "<Figure size 360x360 with 1 Axes>"
      ]
     },
     "metadata": {
      "needs_background": "light"
     },
     "output_type": "display_data"
    }
   ],
   "source": [
    "sns.displot(x =\"total_alquileres\", data = df,color = \"cadetblue\")\n",
    "plt.title(\"Distribución total alquileres bicicletas\", size = 20)\n",
    "plt.tight_layout()\n",
    "plt.xlabel=(\"\")\n",
    "plt.ylabel=(\"\");"
   ]
  },
  {
   "cell_type": "code",
   "execution_count": 39,
   "metadata": {},
   "outputs": [
    {
     "data": {
      "image/png": "[encoded data removed]",
      "text/plain": [
       "<Figure size 1080x720 with 1 Axes>"
      ]
     },
     "metadata": {
      "needs_background": "light"
     },
     "output_type": "display_data"
    }
   ],
   "source": [
    "sns.distplot(\n",
    "    df[\"total_alquileres\"],\n",
    "    hist = False,\n",
    "    color = \"blue\",\n",
    "    kde_kws = {\"shade\": True, \"linewidth\": 1});"
   ]
  },
  {
   "cell_type": "markdown",
   "metadata": {},
   "source": [
    "CONCLUSIÓN: Los datos son simétricos aunque no forman una campana de Gauss perfecta."
   ]
  },
  {
   "cell_type": "code",
   "execution_count": 40,
   "metadata": {},
   "outputs": [],
   "source": [
    "df[['año', 'mes', 'festivo', 'dia_sem', 'laborable', 'prevision_tiempo']] = df[['año', 'mes', 'festivo', 'dia_sem', 'laborable', 'prevision_tiempo']].astype(\"category\")"
   ]
  },
  {
   "cell_type": "code",
   "execution_count": 49,
   "metadata": {},
   "outputs": [
    {
     "data": {
      "image/png": "[encoded data removed]",
      "text/plain": [
       "<Figure size 1080x720 with 6 Axes>"
      ]
     },
     "metadata": {
      "needs_background": "light"
     },
     "output_type": "display_data"
    }
   ],
   "source": [
    "# Distribución de variables numéricas\n",
    "\n",
    "df_num = df.select_dtypes(include= np.number)\n",
    "num = df_num.drop(\"total_alquileres\", axis = 1)\n",
    "\n",
    "fig, axes = plt.subplots(nrows = 3, ncols = 2)\n",
    "axes = axes.flat\n",
    "\n",
    "\n",
    "for i, colum in enumerate(num.columns):\n",
    "    sns.histplot(\n",
    "        data = df,\n",
    "        x = colum,\n",
    "        kde = True,\n",
    "        color = \"cadetblue\",\n",
    "        line_kws = {\"linewidth\": 2},\n",
    "        alpha = 0.5,\n",
    "        ax = axes[i])\n",
    "    axes[i].set_title(colum, fontsize = 15, fontweight = \"bold\")\n",
    "    axes[i].tick_params(labelsize = 20)\n",
    "    axes[i].set_xlabel(\"\")\n",
    "    axes[i].set_ylabel(\"número de días\")\n",
    "    fig.tight_layout()\n"
   ]
  },
  {
   "cell_type": "markdown",
   "metadata": {},
   "source": [
    "CONCLUSIONES:\n",
    "\n",
    "- Aparentemente es un clima templado, sin temperaturas extremas. Gráfica simétrica.\n",
    "- Lo mismo ocurre con la sensación térmica.\n",
    "- En cuanto a la humedad, los datos parecen estar sesgados a la derecha; a pesar de haber humedades altas (> 60%) sigue habiendo un gran número de días húmedos y disminuye según la humedad se va acentuand.o. Clima relativamente húmedo.\n",
    "- Hay menor número de días ventosos que no ventosos. Zona poco ventosa.\n",
    "- En cuanto a los alquileres:\n",
    "    - "
   ]
  },
  {
   "cell_type": "code",
   "execution_count": null,
   "metadata": {},
   "outputs": [],
   "source": [
    "# Relación entre variables predictoras y la variable respuesta\n",
    "fig, axes = plt.subplots(nrows = 9, ncols = 2, figsize = (70, 60))\n",
    "axes = axes.flat\n",
    "num = df_final.select_dtypes(include = np.number).columns\n",
    "num = num.drop(\"salario\")\n",
    "for i, colum in enumerate(num):\n",
    "    sns.regplot(\n",
    "        x = df_final[colum],\n",
    "        y = df_final[\"salario\"],\n",
    "        color = \"gray\",\n",
    "        marker = \".\",\n",
    "        scatter_kws = {\"alpha\": 0.4},\n",
    "        line_kws = {\"color\": \"red\", \"alpha\": 0.7 },\n",
    "        ax = axes[i])\n",
    "    axes[i].set_title(f\"Salario vs. precio de {colum}\", fontsize = 10, fontweight = \"bold\")\n",
    "    axes[i].tick_params(labelsize = 20)\n",
    "    axes[i].set_xlabel(\"\")\n",
    "    axes[i].set_ylabel(\"\")\n",
    "fig.tight_layout()\n",
    "fig.delaxes(axes[-1])\n",
    "fig.delaxes(axes[-2])\n",
    "fig.delaxes(axes[-3]);"
   ]
  }
 ],
 "metadata": {
  "kernelspec": {
   "display_name": "base",
   "language": "python",
   "name": "python3"
  },
  "language_info": {
   "codemirror_mode": {
    "name": "ipython",
    "version": 3
   },
   "file_extension": ".py",
   "mimetype": "text/x-python",
   "name": "python",
   "nbconvert_exporter": "python",
   "pygments_lexer": "ipython3",
   "version": "3.9.7"
  },
  "orig_nbformat": 4
 },
 "nbformat": 4,
 "nbformat_minor": 2
}
